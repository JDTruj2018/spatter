{
 "cells": [
  {
   "cell_type": "code",
   "execution_count": 1,
   "id": "b78b9173-92c1-41eb-bdce-32eae972ff5d",
   "metadata": {
    "jupyter": {
     "source_hidden": true
    },
    "tags": []
   },
   "outputs": [],
   "source": [
    "import matplotlib.pyplot as plt\n",
    "import pandas as pd\n",
    "import os\n",
    "import subprocess\n",
    "import pickle\n",
    "import spatter_util\n",
    "\n",
    "#Specify the top-level directory of the project\n",
    "os.environ[\"CODE_DIR\"]=os.path.abspath(os.path.join(os.getcwd(), os.pardir))"
   ]
  },
  {
   "cell_type": "markdown",
   "id": "448472bf-b87d-4e62-bf3f-382f6c2b95fe",
   "metadata": {
    "tags": []
   },
   "source": [
    "# Getting Started with Spatter\n",
    "\n",
    "This notebook will guide you through running standard Spatter testsuites and adding the results to the plots found in our MEMSYS'20 paper, which you can read [here](https://dl.acm.org/doi/abs/10.1145/3422575.3422794). Specifically, we will be adding your data to Figures 3, 5, and 9.\n",
    "\n",
    "**Important**: Before you run this notebook, you should have already built Spatter. Please view the README in the top level directory to do so and/or run the commands in the next cell for a basic OpenMP build. Once you've built Spatter, note the build directory, and return to this notebook. \n",
    "\n",
    "**Note:** Although a new combined Gather/Scatter kernel is planned, it is not yet part of this notebook. \n",
    "\n",
    "To get started, fill out the information in the table below about your system. The data that comes in this notebook was generated on an M1 Macbook Air."
   ]
  },
  {
   "cell_type": "code",
   "execution_count": 2,
   "id": "3f0d1e64",
   "metadata": {
    "scrolled": true
   },
   "outputs": [
    {
     "name": "stdout",
     "output_type": "stream",
     "text": [
      "Demonstrating a basic configuration and build of SpatterUpdating submodules\n",
      "-- The C compiler identification is GNU 8.5.0\n",
      "-- The CXX compiler identification is GNU 8.5.0\n",
      "-- Detecting C compiler ABI info\n",
      "-- Detecting C compiler ABI info - done\n",
      "-- Check for working C compiler: /usr/bin/gcc - skipped\n",
      "-- Detecting C compile features\n",
      "-- Detecting C compile features - done\n",
      "-- Detecting CXX compiler ABI info\n",
      "-- Detecting CXX compiler ABI info - done\n",
      "-- Check for working CXX compiler: /usr/bin/g++ - skipped\n",
      "-- Detecting CXX compile features\n",
      "-- Detecting CXX compile features - done\n",
      "-- Found OpenMP_C: -fopenmp (found version \"4.5\") \n",
      "-- Found OpenMP_CXX: -fopenmp (found version \"4.5\") \n",
      "-- Found OpenMP: TRUE (found version \"4.5\")  \n",
      "-- compiler version is 8.5.0\n",
      "-- compiler is /usr/bin/gcc\n",
      "-- Configuring done\n",
      "-- Generating done\n",
      "-- Build files have been written to: /nethome/jyoung9/git_repos/reviews/spatter/build_omp_gnu\n"
     ]
    }
   ],
   "source": [
    "%%bash\n",
    "printf \"Demonstrating a basic configuration and build of Spatter\"\n",
    "\n",
    "#Run the OpenMP Gnu configure script in the top-level directory\n",
    "cd $CODE_DIR\n",
    "./configure/configure_omp_gnu\n",
    "\n",
    "#Switch to the build directory\n",
    "cd build_omp_gnu/\n",
    "\n",
    "#Run make with 4 threads - check the build log for any errors\n",
    "make -j4 &> spatter_build.log\n",
    "cd $CODE_DIR"
   ]
  },
  {
   "cell_type": "code",
   "execution_count": 4,
   "id": "99cc7883-0a43-4a84-b59d-6a30e892c8ac",
   "metadata": {},
   "outputs": [],
   "source": [
    "# Configuration Information\n",
    "build_dir      = '$CODE_DIR/build_omp_gnu' # Relative to the directory containing this notebook\n",
    "stream_copy_bw =  58543.9           # STREAM bw in MB/s - if you don't know this just use the value below \n",
    "                                    # called \"Spatter STREAM-like Gather bandwidth\" You can enter 0 for now.\n",
    "platform_name  = 'NB'               # Used for plot legends\n",
    "system_type    = 'cpu'              # Change to 'gpu' if you have build a CUDA or OpenCL backend"
   ]
  },
  {
   "cell_type": "markdown",
   "id": "8d8fdf8b-ce49-40c6-8178-5d5c58047cd6",
   "metadata": {},
   "source": [
    "## Examining Spatter Output\n",
    "First, let's look at how we can use Spatter to get a number similar to what John McCalpin's [STREAM](https://www.cs.virginia.edu/stream/) would give us. \n",
    "\n",
    "To accomplish this in Spatter, we want to create a pattern that will read in every element of an array with no reuse. This means we want an index buffer containing the numbers $0$ to $N-1$, and a `delta` of $N$. The value of $N$ does not change the data that is read, but may have performance implications for the architecture you're running on. A good value for CPUs is 8, and a good value for GPUs is 256. We want to run this test as a sanity check before running the more interested tests. \n",
    "\n",
    "One caveat when comparing to STREAM is that Spatter is designed to only produce Reads in Gather mode, and to only produce writes in Scatter mode. The numbers should still be similar, however. \n",
    "\n",
    "We'll write this one out by hand so we can look at some of the options Spatter supports. After this, we'll just run the scripts that run the standard testsuites. This test will require 1GiB of memory."
   ]
  },
  {
   "cell_type": "code",
   "execution_count": 5,
   "id": "b628eacd-b986-4be2-a527-8b381faa9376",
   "metadata": {},
   "outputs": [
    {
     "name": "stdout",
     "output_type": "stream",
     "text": [
      "\r\n",
      "Running Spatter version 0.4\r\n",
      "Compiler: GNU ver. 8.5.0\r\n",
      "Compiler Location: /usr/bin/gcc\r\n",
      "Backend: OPENMP\r\n",
      "Aggregate Results? YES\r\n",
      "\r\n",
      "Run Configurations\r\n",
      "[ {'name':'UNIFORM', 'kernel':'Gather', 'pattern':[0,1,2,3,4,5,6,7], 'delta':8, 'length':16777216, 'agg':10, 'wrap':1, 'threads':2} ]\r\n",
      "\r\n",
      "config  time(s)      bw(MB/s)    \r\n",
      "0       0.4183       2567.03     \r\n",
      "\r\n",
      "Min         25%          Med          75%          Max         \r\n",
      "2567.03      2567.03      2567.03      2567.03      2567.03     \r\n",
      "H.Mean       H.StdErr    \r\n",
      "2567.03      0           \r\n"
     ]
    }
   ],
   "source": [
    "N      = 8                  # Index buffer length, as described above\n",
    "index  = f'-pUNIFORM:{N}:1' # This is a shorthand that Spatter supports meaning \"Uniform stride, length N, gap 1\n",
    "                            # You could also write -p0,1,2,3,4,5,6,7\n",
    "delta  = f'-d{N}'           # This is the delta applied to the base address between gathers/scatters\n",
    "length = f'-l{2**24}'       # The -l (--length) option specifies how many gathers or scatters to perform\n",
    "                            # With an index buffer of length 8, and 8 bytes per double, this will be 2^3 * 2^3 * 2^24 = 1GiB of data read\n",
    "\n",
    "os.system(f'{build_dir}/spatter {index} {delta} {length} | tee stream-like-read-custom{system_type}.txt')\n",
    "!cat stream-like-read-custom{system_type}.txt"
   ]
  },
  {
   "cell_type": "markdown",
   "id": "c73c9554-6f4a-4bb9-9732-61a562f1e749",
   "metadata": {},
   "source": [
    "### Spatter Output\n",
    "\n",
    "There are 4 sections in the above output:\n",
    "1. Build information\n",
    "1. Run configuations\n",
    "\n",
    "    - In this case there is only one. Spatter supports a JSON input to specify multiple run configuations. This saves time allocating memory as it can be re-used between benchmark runs. \n",
    "        \n",
    "1. Time and effective bandwidth per configuration. \n",
    "\n",
    "    - In the run configuration, you'll see that \"agg\" is set to 10, meaning the configuation is an aggregate across 10 runs. We take the minimum time of all aggregated runs. \n",
    "    \n",
    "1. Summary information\n",
    "\n",
    "    - These numbers, particularly the harmonic mean, serve as a single performance number for the run configurations."
   ]
  },
  {
   "cell_type": "code",
   "execution_count": 19,
   "id": "d571ae0e-b583-4894-b89d-0a014881a4d4",
   "metadata": {
    "tags": []
   },
   "outputs": [
    {
     "ename": "ValueError",
     "evalue": "could not convert string to float: ",
     "output_type": "error",
     "traceback": [
      "\u001b[0;31m---------------------------------------------------------------------------\u001b[0m",
      "\u001b[0;31mValueError\u001b[0m                                Traceback (most recent call last)",
      "\u001b[0;32m<ipython-input-19-51ccbfa37c82>\u001b[0m in \u001b[0;36m<module>\u001b[0;34m\u001b[0m\n\u001b[1;32m      1\u001b[0m \u001b[0;31m# Read the output file and get the bandwidth. We'll use a utility function for this further in the notebook\u001b[0m\u001b[0;34m\u001b[0m\u001b[0;34m\u001b[0m\u001b[0;34m\u001b[0m\u001b[0m\n\u001b[0;32m----> 2\u001b[0;31m \u001b[0mread_bw\u001b[0m \u001b[0;34m=\u001b[0m \u001b[0mfloat\u001b[0m\u001b[0;34m(\u001b[0m\u001b[0mos\u001b[0m\u001b[0;34m.\u001b[0m\u001b[0mpopen\u001b[0m\u001b[0;34m(\u001b[0m\u001b[0;34mf'grep config --context=1 < stream-like-read-custom{system_type}.txt | tail -n 1 | cut -w -f3'\u001b[0m\u001b[0;34m)\u001b[0m\u001b[0;34m.\u001b[0m\u001b[0mread\u001b[0m\u001b[0;34m(\u001b[0m\u001b[0;34m)\u001b[0m\u001b[0;34m)\u001b[0m\u001b[0;34m\u001b[0m\u001b[0;34m\u001b[0m\u001b[0m\n\u001b[0m\u001b[1;32m      3\u001b[0m \u001b[0;34m\u001b[0m\u001b[0m\n\u001b[1;32m      4\u001b[0m \u001b[0;32mif\u001b[0m \u001b[0;34m(\u001b[0m\u001b[0mstream_copy_bw\u001b[0m \u001b[0;34m!=\u001b[0m \u001b[0;36m0\u001b[0m\u001b[0;34m)\u001b[0m\u001b[0;34m:\u001b[0m\u001b[0;34m\u001b[0m\u001b[0;34m\u001b[0m\u001b[0m\n\u001b[1;32m      5\u001b[0m     \u001b[0mprint\u001b[0m\u001b[0;34m(\u001b[0m\u001b[0;34mf'Spatter STREAM-like Gather bandwidth is {read_bw} MB/s, which is {100*read_bw/stream_copy_bw:.2f}% of STREAM'\u001b[0m\u001b[0;34m)\u001b[0m\u001b[0;34m\u001b[0m\u001b[0;34m\u001b[0m\u001b[0m\n",
      "\u001b[0;31mValueError\u001b[0m: could not convert string to float: "
     ]
    }
   ],
   "source": [
    "# Read the output file and get the bandwidth. We'll use a utility function for this further in the notebook\n",
    "read_bw = float(os.popen(f'grep config --context=1 < stream-like-read-custom{system_type}.txt | tail -n 1 | cut -w -f3').read())\n",
    "\n",
    "if (stream_copy_bw != 0):\n",
    "    print(f'Spatter STREAM-like Gather bandwidth is {read_bw} MB/s, which is {100*read_bw/stream_copy_bw:.2f}% of STREAM')\n",
    "else:\n",
    "    print(f'Spatter STREAM-like Gather bandwidth is {read_bw} MB/s. NOTE: Please enter this value for \\'stream_copy_bandwidth\\'')"
   ]
  },
  {
   "cell_type": "markdown",
   "id": "46a794ab-aadd-42ef-8a94-cf19f9628485",
   "metadata": {},
   "source": [
    "## Standard Suite 1: STREAM-like\n",
    "\n",
    "Let's run the STREAM-like suite. We won't make a plot from this data, but we'll use this to see how the other suites are run. This test will require 1GiB to run."
   ]
  },
  {
   "cell_type": "code",
   "execution_count": 26,
   "id": "a01f2479-86eb-44ca-a3f7-e672c92a1aba",
   "metadata": {},
   "outputs": [
    {
     "name": "stdout",
     "output_type": "stream",
     "text": [
      "\r\n",
      "Running Spatter version 0.4\r\n",
      "Compiler: GNU ver. 8.5.0\r\n",
      "Compiler Location: /usr/bin/gcc\r\n",
      "Backend: OPENMP\r\n",
      "Aggregate Results? YES\r\n",
      "\r\n",
      "Run Configurations\r\n",
      "[ {'name':'UNIFORM', 'kernel':'Gather', 'pattern':[0,1,2,3,4,5,6,7], 'delta':8, 'length':16777216, 'agg':10, 'wrap':1, 'threads':2} ]\r\n",
      "\r\n",
      "config  time(s)      bw(MB/s)    \r\n",
      "0       0.4183       2567.03     \r\n",
      "\r\n",
      "Min         25%          Med          75%          Max         \r\n",
      "2567.03      2567.03      2567.03      2567.03      2567.03     \r\n",
      "H.Mean       H.StdErr    \r\n",
      "2567.03      0           \r\n"
     ]
    }
   ],
   "source": [
    "suite = f'../standard-suite/basic-tests/{system_type}-stream.json'\n",
    "os.system(f'{build_dir}/spatter -pFILE={suite} &> stream_custom{system_type}.txt')\n",
    "!cat stream-like-read-custom{system_type}.txt"
   ]
  },
  {
   "cell_type": "code",
   "execution_count": 29,
   "id": "f7222d14-becf-48ec-9ed5-9633dcb67891",
   "metadata": {},
   "outputs": [
    {
     "ename": "SyntaxError",
     "evalue": "unexpected EOF while parsing (<string>, line 0)",
     "output_type": "error",
     "traceback": [
      "Traceback \u001b[0;36m(most recent call last)\u001b[0m:\n",
      "  File \u001b[1;32m\"/usr/local/lib/python3.6/site-packages/IPython/core/interactiveshell.py\"\u001b[0m, line \u001b[1;32m3343\u001b[0m, in \u001b[1;35mrun_code\u001b[0m\n    exec(code_obj, self.user_global_ns, self.user_ns)\n",
      "  File \u001b[1;32m\"<ipython-input-29-966f40729f2f>\"\u001b[0m, line \u001b[1;32m1\u001b[0m, in \u001b[1;35m<module>\u001b[0m\n    stream_df = spatter_util.file2df(f'stream_custom{system_type}.txt')\n",
      "\u001b[0;36m  File \u001b[0;32m\"/nethome/jyoung9/git_repos/reviews/spatter/notebooks/spatter_util.py\"\u001b[0;36m, line \u001b[0;32m139\u001b[0;36m, in \u001b[0;35mfile2df\u001b[0;36m\u001b[0m\n\u001b[0;31m    config = pd.DataFrame(eval(contents[start:end]))\u001b[0m\n",
      "\u001b[0;36m  File \u001b[0;32m\"<string>\"\u001b[0;36m, line \u001b[0;32munknown\u001b[0m\n\u001b[0;31m    \u001b[0m\n\u001b[0m    ^\u001b[0m\n\u001b[0;31mSyntaxError\u001b[0m\u001b[0;31m:\u001b[0m unexpected EOF while parsing\n"
     ]
    }
   ],
   "source": [
    "stream_df = spatter_util.file2df(f'stream_custom{system_type}.txt')\n",
    "print(f'Gather  Bandwidth: {stream_df[\"bw(MB/s)\"][1]} MB/s') # The second pattern is a gather kernel\n",
    "print(f'Scatter Bandwidth: {stream_df[\"bw(MB/s)\"][0]} MB/s') # The first pattern is a scatter kernel"
   ]
  },
  {
   "cell_type": "markdown",
   "id": "1111a275-06be-489a-9119-74b75d9caafa",
   "metadata": {},
   "source": [
    "## Standard Suite 2: Uniform Stride\n",
    "\n",
    "This suite runs gather and scatter patterns at power of 2 strides, from 1 to 128. Because we are access doubles, a stride of 8 means we are accessing 1 element from every 64-byte cache line. We expect to see effective bandwidth roughly level out at this point, although this is not the case on all systems! You can check out the paper for more on this plot!\n",
    "\n",
    "This test will require 2GB of memory. The plots in the paper used 16 GB but we want this notebook to run quickly on laptops with less memory."
   ]
  },
  {
   "cell_type": "code",
   "execution_count": null,
   "id": "e6f2595f-87c7-4a83-9c94-de81bce63ea2",
   "metadata": {},
   "outputs": [],
   "source": [
    "# Run the suite\n",
    "\n",
    "suite = f'../standard-suite/basic-tests/{system_type}-ustride.json'\n",
    "os.system(f'{build_dir}/spatter -pFILE={suite} > ustride_custom{system_type}.txt')\n",
    "ustride_df = spatter_util.file2df(f'ustride_custom{system_type}.txt')\n",
    "ustride_df = ustride_df.rename(columns={'bw(MB/s)':'bw'})"
   ]
  },
  {
   "cell_type": "code",
   "execution_count": null,
   "id": "20ce7e8a-e42b-4c49-b596-499ebb2b8f23",
   "metadata": {},
   "outputs": [],
   "source": [
    "# Concatenate the new data to the old data\n",
    "with open('pattern_results_ext.pkl', 'rb') as file:\n",
    "    df = pickle.load(file)\n",
    "    \n",
    "# We ran with many different length patterns to see which was best. As mentioned above, 8 is \n",
    "# good for CPUs and 256 is good for GPUs. Set N above to use a different set of experiments. \n",
    "df = df[df['pat_len'] == N]\n",
    "df = pd.concat([df, ustride_df], ignore_index=True)\n",
    "\n",
    "# Just keep the ustride experiments from the old data\n",
    "df = df[df['experiment'] == 'ustride']\n",
    "\n",
    "# Remove Cascade Lake as it's very similar to Skylake\n",
    "df = df[df['arch']!='clx']"
   ]
  },
  {
   "cell_type": "code",
   "execution_count": null,
   "id": "c10c0acd-c03c-43da-b1db-0f3db0dc4a7d",
   "metadata": {},
   "outputs": [],
   "source": [
    "def ustride_plot(kernel):\n",
    "    df_ustride = df[df['kernel']==kernel]\n",
    "    fig, ax = plt.subplots()\n",
    "    ax.set_yscale('log')\n",
    "    ax.set_title(f'Uniform Stride Experiment - {kernel}')\n",
    "    ax.set_ylabel('Utilized Bandwidth (MB/s)')\n",
    "    ax.set_xlabel('Stride')\n",
    "    \n",
    "    for arch in set(df['arch']):    \n",
    "        if (arch == 'customcpu' or arch == 'customgpu'):\n",
    "            edgecolor = 'black'\n",
    "            linecolor = 'black'\n",
    "            label = platform_name\n",
    "        else:\n",
    "            edgecolor = None\n",
    "            linecolor = spatter_util.COLORS[arch]\n",
    "            label = spatter_util.ALLNAMES[arch]\n",
    "            \n",
    "        yvals = df_ustride[df_ustride['arch']==arch]['bw']\n",
    "        xvals = range(1, len(yvals)+1)\n",
    "        sym = spatter_util.SYMBOLS[arch]\n",
    "        ax.scatter(xvals, yvals, color=spatter_util.COLORS[arch], edgecolors=edgecolor, label=label, marker=sym)\n",
    "        ax.plot(xvals, yvals, color=linecolor, linewidth=0.7)\n",
    "        \n",
    "    string_labels = []\n",
    "    for i in range(0,len(yvals)):\n",
    "        string_labels.append(r\"$2^{%d}$\" % i)\n",
    "\n",
    "    plt.xticks(range(1,len(yvals)+1),string_labels)\n",
    "    \n",
    "    ax.legend()\n",
    "    plt.show()\n",
    "    \n",
    "ustride_plot('Gather')\n",
    "ustride_plot('Scatter')"
   ]
  },
  {
   "cell_type": "markdown",
   "id": "0e87f40c-8384-45bd-8258-12649583b427",
   "metadata": {},
   "source": [
    "Your data should appear as white circles with a black outline. This corresponds to Figure 3 in the paper. If you build for GPU, and set the Configuration Information above appropriately, you can use this same process to recreate Figure 5."
   ]
  },
  {
   "cell_type": "markdown",
   "id": "0c350000-2d71-4250-90ba-a6a12ed2f7cd",
   "metadata": {},
   "source": [
    "## Standard Suite 3: Application Patterns\n",
    "\n",
    "The plots for app patterns are much more complicated, but their strucure allows us to compare systems both in terms of the absolute bandwdith they utilize for each pattern (by looking at the y-value of the points) as well as the percent of the available bandwidth they utilize (by looking at the distance of each point from the y=x line, which represents STREAM or Stride-1 bandwidth. \n",
    "\n",
    "The plots in the paper contain patterns from PENNANT and LULESH. We'll run those two, but you can also run the Nekbone and AMG patterns if you like.\n",
    "\n",
    "The PENNANT patterns may take a couple minutes to run."
   ]
  },
  {
   "cell_type": "code",
   "execution_count": null,
   "id": "17adaa86-3a62-4ede-adda-e685c68ca927",
   "metadata": {},
   "outputs": [],
   "source": [
    "if (system_type == 'cpu'):\n",
    "    lulesh_suite  = '../standard-suite/app-traces/lulesh.json'\n",
    "    pennant_suite = '../standard-suite/app-traces/pennant.json'\n",
    "else: \n",
    "    lulesh_suite  = '../standard-suite/app-traces/lulesh_gpu.json'\n",
    "    pennant_suite = '../standard-suite/app-traces/pennant_gpu.json'\n",
    "\n",
    "os.system(f'{build_dir}/spatter -pFILE={lulesh_suite}  > lulesh_custom{system_type}.txt')\n",
    "os.system(f'{build_dir}/spatter -pFILE={pennant_suite} > pennant_custom{system_type}.txt')"
   ]
  },
  {
   "cell_type": "code",
   "execution_count": null,
   "id": "af1d69d3-01d7-44f7-8de9-67f755843abe",
   "metadata": {},
   "outputs": [],
   "source": [
    "df_lulesh  = spatter_util.file2df(f'lulesh_custom{system_type}.txt')\n",
    "df_pennant = spatter_util.file2df(f'pennant_custom{system_type}.txt')\n",
    "\n",
    "notebook_df    = pd.concat([df_lulesh, df_pennant], ignore_index=True)\n",
    "ustride_df     = spatter_util.file2df(f'ustride_custom{system_type}.txt') # Read this in again without re-naming\n",
    "notebook_df    = pd.concat([ustride_df, notebook_df], ignore_index=True) # Join data from ustride above, we need this for the y=x line on the plot\n",
    "notebook_system_type = system_type # Used by the plotting script\n",
    "\n",
    "# Optional - Remove systems from the plot that overlap with your system. The full list is ['bdw', 'npl', 'tx2', 'skx', 'clx', 'titan', 'p100', 'gv100']\n",
    "notebook_remove = ['bdw', 'npl', 'tx2', 'skx']\n",
    "\n",
    "# The plotting script also imports spatter_util so we can change values here\n",
    "spatter_util.ALLNAMES['customcpu'] = platform_name "
   ]
  },
  {
   "cell_type": "code",
   "execution_count": null,
   "id": "bc2d02c6-b137-49db-83e5-4f4a3dcceb87",
   "metadata": {},
   "outputs": [],
   "source": [
    "# We'll just call a scrip to make this one -- it's too complicated to include here\n",
    "%run -i 'bwbw_plot.py' 'Gather'\n",
    "%run -i 'bwbw_plot.py' 'Scatter'"
   ]
  },
  {
   "cell_type": "markdown",
   "id": "762df454-cc98-48d4-8f15-0d8f282bb2d9",
   "metadata": {},
   "source": [
    "# Next Steps\n",
    "\n",
    "- Dig into other Spatter options in the [README.md](https://github.com/hpcgarage/spatter#readme)\n",
    "\n",
    "- Capture app patterns for your app with our [DyanamoRIO tracing tool](https://github.com/hpcgarage/dr-gather-scatter-trace). (Note: This tool isn't quite ready to generate JSON input for Spatter. Let us know if you're intested in using it!)\n",
    "\n",
    "- See more experiments in our [paper](https://dl.acm.org/doi/abs/10.1145/3422575.3422794)\n",
    "\n",
    "## Issues and Improvements\n",
    "\n",
    "Have issues running this notebook? Have ideas for improving or extending Spatter? Submit an issue [here](https://github.com/hpcgarage/spatter/issues), or submit a PR!\n",
    "\n"
   ]
  },
  {
   "cell_type": "code",
   "execution_count": null,
   "id": "e162a53a",
   "metadata": {},
   "outputs": [],
   "source": []
  }
 ],
 "metadata": {
  "kernelspec": {
   "display_name": "Python 3",
   "language": "python",
   "name": "python3"
  },
  "language_info": {
   "codemirror_mode": {
    "name": "ipython",
    "version": 3
   },
   "file_extension": ".py",
   "mimetype": "text/x-python",
   "name": "python",
   "nbconvert_exporter": "python",
   "pygments_lexer": "ipython3",
   "version": "3.6.8"
  }
 },
 "nbformat": 4,
 "nbformat_minor": 5
}
